{
 "cells": [
  {
   "cell_type": "markdown",
   "metadata": {},
   "source": [
    "# Vertex AI Pipeline for Heart Disease Detection"
   ]
  },
  {
   "cell_type": "markdown",
   "metadata": {},
   "source": [
    "This code is based on the lab notebooks from Dr. Indika Kumara and this implementation from Kaggle [notebook](https://www.kaggle.com/code/tanmay111999/heart-failure-prediction-cv-score-90-5-models/) by Tanmay Deshpande.\n",
    "\n",
    "The dataset is available [here](https://www.kaggle.com/datasets/fedesoriano/heart-failure-prediction) by fedesoriano."
   ]
  },
  {
   "cell_type": "markdown",
   "metadata": {},
   "source": [
    "## Install Packages"
   ]
  },
  {
   "cell_type": "code",
   "execution_count": null,
   "metadata": {},
   "outputs": [],
   "source": [
    "# Install the packages\n",
    "! pip3 install --user --no-cache-dir --upgrade \"kfp>2\" \"google-cloud-pipeline-components>2\" \\\n",
    "                                        google-cloud-aiplatform"
   ]
  },
  {
   "cell_type": "markdown",
   "metadata": {},
   "source": [
    "Test Kernel:"
   ]
  },
  {
   "cell_type": "code",
   "execution_count": null,
   "metadata": {},
   "outputs": [],
   "source": [
    "import os\n",
    "\n",
    "if not os.getenv(\"IS_TESTING\"):\n",
    "    # Automatically restart kernel after installs\n",
    "    import IPython\n",
    "\n",
    "    app = IPython.Application.instance()\n",
    "    app.kernel.do_shutdown(True)"
   ]
  },
  {
   "cell_type": "code",
   "execution_count": null,
   "metadata": {},
   "outputs": [],
   "source": [
    "import kfp\n",
    "import typing\n",
    "from typing import Dict\n",
    "from typing import NamedTuple\n",
    "from kfp import dsl\n",
    "from kfp.dsl import (Artifact,\n",
    "                        Dataset,\n",
    "                        Input,\n",
    "                        Model,\n",
    "                        Output,\n",
    "                        Metrics,\n",
    "                        ClassificationMetrics,\n",
    "                        component, \n",
    "                        OutputPath, \n",
    "                        InputPath)\n",
    "import google.cloud.aiplatform as aip\n",
    "from google_cloud_pipeline_components.v1.model import ModelUploadOp\n",
    "from google_cloud_pipeline_components.types import artifact_types"
   ]
  },
  {
   "cell_type": "markdown",
   "metadata": {},
   "source": [
    "## Project and Pipeline Configuration"
   ]
  },
  {
   "cell_type": "code",
   "execution_count": null,
   "metadata": {},
   "outputs": [],
   "source": [
    "#The Google Cloud project that this pipeline runs in.\n",
    "PROJECT_ID = \"core-synthesis-435410-v9\"\n",
    "# The region that this pipeline runs in\n",
    "REGION = \"us-central1\"\n",
    "# Specify a Cloud Storage URI that your pipelines service account can access. The artifacts of your pipeline runs are stored within the pipeline root.\n",
    "PIPELINE_ROOT = \"gs://temp_de2024_mh\"   # e.g., gs://temp_de2024"
   ]
  },
  {
   "cell_type": "markdown",
   "metadata": {},
   "source": [
    "### Pipeline Component: Load, prepare and split data "
   ]
  },
  {
   "cell_type": "code",
   "execution_count": null,
   "metadata": {},
   "outputs": [],
   "source": [
    "@dsl.component(\n",
    "    packages_to_install=[\"pandas\", \"scikit-learn\"],\n",
    "    base_image=\"python:3.10.7-slim\"\n",
    ")\n",
    "def train_test_split(dataset: Input[Dataset], dataset_train: Output[Dataset], dataset_test: Output[Dataset]):\n",
    "    '''train_test_split'''\n",
    "    import pandas as pd\n",
    "    import logging \n",
    "    import sys\n",
    "    from sklearn.model_selection import train_test_split\n",
    "    from sklearn.preprocessing import LabelEncoder\n",
    "    logging.basicConfig(stream=sys.stdout, level=logging.INFO) \n",
    "\n",
    "    df = pd.read_csv(dataset.path, index_col=None)\n",
    "\n",
    "    le = LabelEncoder()\n",
    "\n",
    "    # Encode categorical features and log the transformations\n",
    "    for column in ['Sex', 'ChestPainType', 'RestingECG', 'ExerciseAngina', 'ST_Slope']:\n",
    "        df[column] = le.fit_transform(df[column])\n",
    "        logging.info(f\"Transformation for {column}: {dict(zip(le.classes_, le.transform(le.classes_)))}\")\n",
    "\n",
    "    # Drop highly correlated features and missing values\n",
    "    df = df.drop(['RestingBP', 'RestingECG'], axis=1)\n",
    "    df = df.dropna()\n",
    "\n",
    "    train, test = train_test_split(df, test_size=0.3, random_state=73)\n",
    "    train.to_csv(dataset_train.path + \".csv\" , index=False, encoding='utf-8-sig')\n",
    "    test.to_csv(dataset_test.path + \".csv\" , index=False, encoding='utf-8-sig')"
   ]
  },
  {
   "cell_type": "markdown",
   "metadata": {},
   "source": [
    "### Pipeline Component: Train Logistic Regression (LR)"
   ]
  },
  {
   "cell_type": "code",
   "execution_count": null,
   "metadata": {},
   "outputs": [],
   "source": [
    "@dsl.component(\n",
    "    packages_to_install=[\"pandas\", \"scikit-learn==1.3.2\"],\n",
    "    base_image=\"python:3.10.7-slim\"\n",
    ")\n",
    "def train_lr(features: Input[Dataset], model: Output[Model]):\n",
    "    '''train a LogisticRegression model'''\n",
    "    import pandas as pd\n",
    "    from sklearn.linear_model import LogisticRegression        \n",
    "    import pickle \n",
    "    \n",
    "    # Load the dataset\n",
    "    data = pd.read_csv(features.path + \".csv\")\n",
    "    \n",
    "    # Initialize and train the Logistic Regression model\n",
    "    model_lr = LogisticRegression(random_state=73, C=10, penalty= 'l2')\n",
    "    model_lr.fit(data.drop('HeartDisease', axis=1), data['HeartDisease'])\n",
    "    \n",
    "    # Add metadata to the model\n",
    "    model.metadata[\"framework\"] = \"Logistic Regression\"\n",
    "    \n",
    "    # Save the trained model to a file\n",
    "    file_name =f\"{model.path}.pkl\"\n",
    "    with open(file_name, 'wb') as file:  \n",
    "        pickle.dump(model_lr, file)"
   ]
  },
  {
   "cell_type": "markdown",
   "metadata": {},
   "source": [
    "### Pipeline Component: Train Decision Tree (DT)"
   ]
  },
  {
   "cell_type": "code",
   "execution_count": null,
   "metadata": {},
   "outputs": [],
   "source": [
    "@dsl.component(\n",
    "    packages_to_install=[\"pandas\", \"scikit-learn==1.3.2\"],\n",
    "    base_image=\"python:3.10.7-slim\"\n",
    ")\n",
    "def train_dt(features: Input[Dataset], model: Output[Model]):\n",
    "    '''train a Decision Tree model'''\n",
    "    import pandas as pd\n",
    "    from sklearn.tree import DecisionTreeClassifier       \n",
    "    import pickle \n",
    "    \n",
    "    # Load the dataset\n",
    "    data = pd.read_csv(features.path + \".csv\")\n",
    "    \n",
    "    # Initialize and train the Decision Regression model\n",
    "    model_dt = DecisionTreeClassifier(random_state=73, max_depth = 4, min_samples_leaf = 1)\n",
    "    model_dt.fit(data.drop('HeartDisease', axis=1), data['HeartDisease'])\n",
    "    \n",
    "    # Add metadata to the model\n",
    "    model.metadata[\"framework\"] = \"Decision Tree\"\n",
    "    \n",
    "    # Save the trained model to a file\n",
    "    file_name =f\"{model.path}.pkl\"\n",
    "    with open(file_name, 'wb') as file:  \n",
    "        pickle.dump(model_dt, file)"
   ]
  },
  {
   "cell_type": "markdown",
   "metadata": {},
   "source": [
    "### Pipeline Component: LR Model Evaluation"
   ]
  },
  {
   "cell_type": "code",
   "execution_count": null,
   "metadata": {},
   "outputs": [],
   "source": [
    "@dsl.component(\n",
    "    packages_to_install = [\n",
    "       \"pandas\", \"scikit-learn==1.3.2\", \"numpy\"\n",
    "    ], base_image=\"python:3.10.7-slim\"\n",
    ")\n",
    "def lr_model_evaluation(\n",
    "    test_set:  Input[Dataset],\n",
    "    model_lr: Input[Model],\n",
    "    thresholds_dict_str: str,\n",
    "    metrics: Output[ClassificationMetrics],\n",
    "    kpi: Output[Metrics]\n",
    ") -> NamedTuple('outputs', approval=bool):\n",
    "  \n",
    "    import pandas as pd\n",
    "    from sklearn.metrics import roc_curve, confusion_matrix, accuracy_score\n",
    "    import json\n",
    "    import pickle\n",
    "    from numpy import nan_to_num\n",
    "\n",
    "    # Define a function to check if the accuracy is above the threshold\n",
    "    def threshold_check(val1, val2):\n",
    "        return val1 >= val2\n",
    "\n",
    "    # Load the test dataset\n",
    "    data = pd.read_csv(test_set.path + \".csv\")\n",
    "\n",
    "    # Load the saved model\n",
    "    with open(model_lr.path + \".pkl\", 'rb') as file:\n",
    "        model = pickle.load(file)\n",
    "\n",
    "    # Predict the target values\n",
    "    y_test = data.drop(columns=[\"HeartDisease\"])\n",
    "    y_target = data['HeartDisease']\n",
    "    y_pred = model.predict(y_test)\n",
    "    y_scores = model.predict_proba(y_test)[:, 1]\n",
    "\n",
    "    # Calculate the ROC curve\n",
    "    fpr, tpr, thresholds = roc_curve(y_true=y_target, y_score=y_scores, pos_label=True)\n",
    "    thresholds = nan_to_num(thresholds)\n",
    "    metrics.log_roc_curve(fpr, tpr, thresholds)\n",
    "\n",
    "    # Calculate the confusion matrix\n",
    "    metrics.log_confusion_matrix(\n",
    "        ['Negative', 'Positive'],\n",
    "        confusion_matrix(y_target, y_pred).tolist(),\n",
    "    )\n",
    "\n",
    "    # Calculate the accuracy\n",
    "    accuracy = accuracy_score(y_target, y_pred.round())\n",
    "    thresholds_dict = json.loads(thresholds_dict_str)\n",
    "    model_lr.metadata[\"accuracy\"] = float(accuracy)\n",
    "    kpi.log_metric(\"accuracy\", float(accuracy))\n",
    "\n",
    "    approval_value = threshold_check(float(accuracy), thresholds_dict['roc'])\n",
    "    return (approval_value,)"
   ]
  },
  {
   "cell_type": "markdown",
   "metadata": {},
   "source": [
    "### Pipeline Component: DT Model Evaluation"
   ]
  },
  {
   "cell_type": "code",
   "execution_count": null,
   "metadata": {},
   "outputs": [],
   "source": [
    "@dsl.component(\n",
    "    packages_to_install = [\n",
    "       \"pandas\", \"scikit-learn==1.3.2\", \"numpy\"\n",
    "    ], base_image=\"python:3.10.7-slim\"\n",
    ")\n",
    "def dt_model_evaluation(\n",
    "    test_set:  Input[Dataset],\n",
    "    model_dt: Input[Model],\n",
    "    thresholds_dict_str: str,\n",
    "    metrics: Output[ClassificationMetrics],\n",
    "    kpi: Output[Metrics]\n",
    ") -> NamedTuple('outputs', approval=bool):\n",
    "  \n",
    "    import pandas as pd\n",
    "    from sklearn.metrics import roc_curve, confusion_matrix, accuracy_score\n",
    "    import json\n",
    "    import pickle\n",
    "    from numpy import nan_to_num\n",
    "\n",
    "    # Define a function to check if the accuracy is above the threshold\n",
    "    def threshold_check(val1, val2):\n",
    "        return val1 >= val2\n",
    "\n",
    "    # Load the test dataset\n",
    "    data = pd.read_csv(test_set.path + \".csv\")\n",
    "\n",
    "    # Load the saved model\n",
    "    with open(model_dt.path + \".pkl\", 'rb') as file:\n",
    "        model = pickle.load(file)\n",
    "\n",
    "    # Predict the target values\n",
    "    y_test = data.drop(columns=[\"HeartDisease\"])\n",
    "    y_target = data['HeartDisease']\n",
    "    y_pred = model.predict(y_test)\n",
    "    y_scores = model.predict_proba(y_test)[:, 1]\n",
    "\n",
    "    # Calculate the ROC curve\n",
    "    fpr, tpr, thresholds = roc_curve(y_true=y_target, y_score=y_scores, pos_label=True)\n",
    "    thresholds = nan_to_num(thresholds)\n",
    "    metrics.log_roc_curve(fpr, tpr, thresholds)\n",
    "\n",
    "    # Calculate the confusion matrix\n",
    "    metrics.log_confusion_matrix(\n",
    "        ['Negative', 'Positive'],\n",
    "        confusion_matrix(y_target, y_pred).tolist(),\n",
    "    )\n",
    "\n",
    "    # Calculate the accuracy\n",
    "    accuracy = accuracy_score(y_target, y_pred.round())\n",
    "    thresholds_dict = json.loads(thresholds_dict_str)\n",
    "    model_dt.metadata[\"accuracy\"] = float(accuracy)\n",
    "    kpi.log_metric(\"accuracy\", float(accuracy))\n",
    "\n",
    "    approval_value = threshold_check(float(accuracy), thresholds_dict['roc'])\n",
    "    return (approval_value,)"
   ]
  },
  {
   "cell_type": "markdown",
   "metadata": {},
   "source": [
    "### Pipeline Component: Select Best Model"
   ]
  },
  {
   "cell_type": "code",
   "execution_count": null,
   "metadata": {},
   "outputs": [],
   "source": [
    "@dsl.component(\n",
    "    base_image=\"python:3.10.7-slim\"\n",
    ")\n",
    "def compare_model(\n",
    "    dt_metrics: Input[Metrics],\n",
    "    lr_metrics: Input[Metrics],\n",
    ") -> str:\n",
    "    import logging\n",
    "\n",
    "    logging.basicConfig(level=logging.INFO)\n",
    "\n",
    "    dt_acc = dt_metrics.metadata[\"accuracy\"]\n",
    "    lr_acc = lr_metrics.metadata[\"accuracy\"]\n",
    "\n",
    "    logging.info(f\"Decision Tree Accuracy: {dt_acc}\")\n",
    "    logging.info(f\"Logistic Regression Accuracy: {lr_acc}\")\n",
    "\n",
    "    if dt_acc > lr_acc:\n",
    "        logging.info(\"Decision Tree model selected.\")\n",
    "        return \"DT\"\n",
    "    else:\n",
    "        logging.info(\"Logistic Regression model selected.\")\n",
    "        return \"LR\""
   ]
  },
  {
   "cell_type": "markdown",
   "metadata": {},
   "source": [
    "### Pipeline Component: Upload model and metrics to GCB"
   ]
  },
  {
   "cell_type": "code",
   "execution_count": null,
   "metadata": {},
   "outputs": [],
   "source": [
    "@dsl.component(\n",
    "    packages_to_install=[\"google-cloud-storage\"],\n",
    "    base_image=\"python:3.10.7-slim\"\n",
    ")\n",
    "def upload_model_to_gcs(project_id: str, model_repo: str, model: Input[Model]):\n",
    "    '''upload model to gcs'''\n",
    "    from google.cloud import storage   \n",
    "    import logging \n",
    "    import sys\n",
    "    \n",
    "    # Set up logging\n",
    "    logging.basicConfig(stream=sys.stdout, level=logging.INFO)    \n",
    "  \n",
    "    # Initialize the Google Cloud Storage client\n",
    "    client = storage.Client(project=project_id)\n",
    "    \n",
    "    # Get the bucket where the model will be uploaded\n",
    "    bucket = client.bucket(model_repo)\n",
    "    \n",
    "    # Create a blob object for the model file\n",
    "    blob = bucket.blob('heart_disease_model.pkl')\n",
    "    \n",
    "    # Upload the model file to the bucket\n",
    "    source_file_name = model.path + '.pkl'\n",
    "    blob.upload_from_filename(source_file_name)    \n",
    "    \n",
    "    print(f\"File {source_file_name} uploaded to {model_repo}.\")"
   ]
  },
  {
   "cell_type": "markdown",
   "metadata": {},
   "source": [
    "### Pipeline Definition"
   ]
  },
  {
   "cell_type": "code",
   "execution_count": null,
   "metadata": {},
   "outputs": [],
   "source": [
    "# Define the workflow of the pipeline.\n",
    "@kfp.dsl.pipeline(\n",
    "    name=\"heart-disease-predictor-training-pipeline\"\n",
    ")\n",
    "def pipeline(project_id: str, data_bucket: str, dataset_uri: str, model_repo: str, thresholds_dict_str: str, model_repo_uri: str):\n",
    "    \n",
    "    # Import the dataset\n",
    "    dataset_op = kfp.dsl.importer(\n",
    "        artifact_uri=dataset_uri,\n",
    "        artifact_class=Dataset,\n",
    "        reimport=False,\n",
    "    )\n",
    "    \n",
    "    # Split the dataset into training and testing sets\n",
    "    train_test_split_op = train_test_split(dataset=dataset_op.output)\n",
    "    \n",
    "    # Train the Logistic Regression model\n",
    "    training_lr_job_run_op = train_lr(features=train_test_split_op.outputs[\"dataset_train\"])\n",
    "    \n",
    "    # Train the Decision Tree model\n",
    "    training_dt_job_run_op = train_dt(features=train_test_split_op.outputs[\"dataset_train\"])\n",
    "    \n",
    "    # Evaluate the Logistic Regression model\n",
    "    model_lr_evaluation_op = lr_model_evaluation(\n",
    "        test_set=train_test_split_op.outputs[\"dataset_test\"],\n",
    "        model_lr=training_lr_job_run_op.outputs[\"model\"],\n",
    "        thresholds_dict_str=thresholds_dict_str,  # Deploy the model only if the performance is above the threshold\n",
    "    )\n",
    "    \n",
    "    # Evaluate the Decision Tree model\n",
    "    model_dt_evaluation_op = dt_model_evaluation(\n",
    "        test_set=train_test_split_op.outputs[\"dataset_test\"],\n",
    "        model_dt=training_dt_job_run_op.outputs[\"model\"],\n",
    "        thresholds_dict_str=thresholds_dict_str,  # Deploy the model only if the performance is above the threshold\n",
    "    )\n",
    "    \n",
    "    # Compare the models and select the best one\n",
    "    compare_model_op = compare_model(\n",
    "        dt_metrics=model_dt_evaluation_op.outputs[\"kpi\"],\n",
    "        lr_metrics=model_lr_evaluation_op.outputs[\"kpi\"],\n",
    "    ).after(model_dt_evaluation_op, model_lr_evaluation_op)\n",
    "    \n",
    "    # Condition to choose the Decision Tree model\n",
    "    with dsl.If(compare_model_op.output == \"DT\", name=\"Choose DT Model\"):\n",
    "        with dsl.If(\n",
    "            model_dt_evaluation_op.outputs[\"approval\"] == True,\n",
    "            name=\"Did DT Model Pass Threshold\",\n",
    "        ):\n",
    "            # Upload the Decision Tree model to GCS\n",
    "            upload_model_to_gcs(\n",
    "                project_id=project_id,\n",
    "                model_repo=model_repo,\n",
    "                model=training_dt_job_run_op.outputs['model']\n",
    "            )\n",
    "\n",
    "    # Condition to choose the Logistic Regression model\n",
    "    with dsl.If(compare_model_op.output == \"LR\", name=\"Choose LR Model\"):\n",
    "        with dsl.If(\n",
    "            model_lr_evaluation_op.outputs[\"approval\"] == True,\n",
    "            name=\"Did LR Model Pass Threshold\",\n",
    "        ):\n",
    "            # Upload the Logistic Regression model to GCS\n",
    "            upload_model_to_gcs(\n",
    "                project_id=project_id,\n",
    "                model_repo=model_repo,\n",
    "                model=training_lr_job_run_op.outputs['model']\n",
    "            )\n"
   ]
  },
  {
   "cell_type": "code",
   "execution_count": null,
   "metadata": {},
   "outputs": [],
   "source": [
    "from kfp import compiler\n",
    "compiler.Compiler().compile(pipeline_func=pipeline,\n",
    "        package_path='heart_disease_predictor_training_pipeline.yaml')"
   ]
  },
  {
   "cell_type": "markdown",
   "metadata": {},
   "source": [
    "### Run pipeline"
   ]
  },
  {
   "cell_type": "code",
   "execution_count": null,
   "metadata": {},
   "outputs": [],
   "source": [
    "import google.cloud.aiplatform as aip\n",
    "\n",
    "# Before initializing, make sure to set the GOOGLE_APPLICATION_CREDENTIALS\n",
    "# environment variable to the path of your service account.\n",
    "aip.init(\n",
    "    project=PROJECT_ID,\n",
    "    location=REGION,\n",
    ")\n",
    "\n",
    "# Prepare the pipeline job\n",
    "job = aip.PipelineJob(\n",
    "    display_name=\"heart-disease-predictor\",\n",
    "    enable_caching=True,\n",
    "    template_path=\"heart_disease_predictor_training_pipeline.yaml\",\n",
    "    pipeline_root=PIPELINE_ROOT,\n",
    "    location=REGION,\n",
    "    parameter_values={\n",
    "        'project_id': PROJECT_ID, \n",
    "        'data_bucket': 'data_de2024_mh',  \n",
    "        'dataset_uri':'gs://data_de2024_mh/heart.csv',\n",
    "        'model_repo':'models_de2024_mh', \n",
    "        'thresholds_dict_str':'{\"roc\":0.8}',\n",
    "        'model_repo_uri':'gs://models_de2024_mh' \n",
    "    }\n",
    ")\n",
    "\n",
    "job.run()"
   ]
  }
 ],
 "metadata": {
  "language_info": {
   "name": "python"
  }
 },
 "nbformat": 4,
 "nbformat_minor": 2
}
